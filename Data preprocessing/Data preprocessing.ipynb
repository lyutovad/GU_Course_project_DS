{
 "cells": [
  {
   "cell_type": "markdown",
   "metadata": {},
   "source": [
    "**Описание датасета**\n",
    "\n",
    "* **Home Ownership** - домовладение\n",
    "* **Annual Income** - годовой доход\n",
    "* **Years in current job** - количество лет на текущем месте работы\n",
    "* **Tax Liens** - налоговые льготы\n",
    "* **Number of Open Accounts** - количество открытых счетов\n",
    "* **Years of Credit History** - количество лет кредитной истории\n",
    "* **Maximum Open Credit** - наибольший открытый кредит\n",
    "* **Number of Credit Problems** - количество проблем с кредитом\n",
    "* **Months since last delinquent** - количество месяцев с последней просрочки платежа\n",
    "* **Bankruptcies** - банкротства\n",
    "* **Purpose** - цель кредита\n",
    "* **Term** - срок кредита\n",
    "* **Current Loan Amount** - текущая сумма кредита\n",
    "* **Current Credit Balance** - текущий кредитный баланс\n",
    "* **Monthly Debt** - ежемесячный долг\n",
    "* **Credit Score** - оценка благонадежности клиента (скоринговый балл, полученный из другого источника)\n",
    "* **Credit Default** - факт невыполнения кредитных обязательств (0 - погашен вовремя, 1 - просрочка)"
   ]
  },
  {
   "cell_type": "code",
   "execution_count": 1,
   "metadata": {},
   "outputs": [],
   "source": [
    "import numpy as np\n",
    "import pandas as pd\n",
    "\n",
    "\n",
    "import seaborn as sns\n",
    "from matplotlib import pyplot as plt\n",
    "%matplotlib inline\n",
    "\n",
    "pd.set_option('display.float_format', '{:.2f}'.format)"
   ]
  },
  {
   "cell_type": "code",
   "execution_count": 2,
   "metadata": {},
   "outputs": [],
   "source": [
    "import warnings\n",
    "warnings.simplefilter('ignore')"
   ]
  },
  {
   "cell_type": "markdown",
   "metadata": {},
   "source": [
    "### <center>Загрузка данных<a class=\"anchor\" id=\"course_project\"></a><center> "
   ]
  },
  {
   "cell_type": "code",
   "execution_count": 3,
   "metadata": {},
   "outputs": [],
   "source": [
    "TRAIN_DATASET_PATH = 'course_project_train.csv'\n",
    "TEST_DATASET_PATH = 'course_project_test.csv'"
   ]
  },
  {
   "cell_type": "code",
   "execution_count": 4,
   "metadata": {},
   "outputs": [],
   "source": [
    "df_train = pd.read_csv(TRAIN_DATASET_PATH)\n",
    "df_test =  pd.read_csv(TEST_DATASET_PATH)"
   ]
  },
  {
   "cell_type": "markdown",
   "metadata": {},
   "source": [
    "### <center>Обзор датасета<a class=\"anchor\" id=\"course_project\"></a><center> "
   ]
  },
  {
   "cell_type": "markdown",
   "metadata": {},
   "source": [
    "#### Обзор тренировочного датасета"
   ]
  },
  {
   "cell_type": "code",
   "execution_count": 5,
   "metadata": {},
   "outputs": [
    {
     "data": {
      "text/html": [
       "<div>\n",
       "<style scoped>\n",
       "    .dataframe tbody tr th:only-of-type {\n",
       "        vertical-align: middle;\n",
       "    }\n",
       "\n",
       "    .dataframe tbody tr th {\n",
       "        vertical-align: top;\n",
       "    }\n",
       "\n",
       "    .dataframe thead th {\n",
       "        text-align: right;\n",
       "    }\n",
       "</style>\n",
       "<table border=\"1\" class=\"dataframe\">\n",
       "  <thead>\n",
       "    <tr style=\"text-align: right;\">\n",
       "      <th></th>\n",
       "      <th>Home Ownership</th>\n",
       "      <th>Annual Income</th>\n",
       "      <th>Years in current job</th>\n",
       "      <th>Tax Liens</th>\n",
       "      <th>Number of Open Accounts</th>\n",
       "      <th>Years of Credit History</th>\n",
       "      <th>Maximum Open Credit</th>\n",
       "      <th>Number of Credit Problems</th>\n",
       "      <th>Months since last delinquent</th>\n",
       "      <th>Bankruptcies</th>\n",
       "      <th>Purpose</th>\n",
       "      <th>Term</th>\n",
       "      <th>Current Loan Amount</th>\n",
       "      <th>Current Credit Balance</th>\n",
       "      <th>Monthly Debt</th>\n",
       "      <th>Credit Score</th>\n",
       "      <th>Credit Default</th>\n",
       "    </tr>\n",
       "  </thead>\n",
       "  <tbody>\n",
       "    <tr>\n",
       "      <th>0</th>\n",
       "      <td>Own Home</td>\n",
       "      <td>482087.00</td>\n",
       "      <td>NaN</td>\n",
       "      <td>0.00</td>\n",
       "      <td>11.00</td>\n",
       "      <td>26.30</td>\n",
       "      <td>685960.00</td>\n",
       "      <td>1.00</td>\n",
       "      <td>nan</td>\n",
       "      <td>1.00</td>\n",
       "      <td>debt consolidation</td>\n",
       "      <td>Short Term</td>\n",
       "      <td>99999999.00</td>\n",
       "      <td>47386.00</td>\n",
       "      <td>7914.00</td>\n",
       "      <td>749.00</td>\n",
       "      <td>0</td>\n",
       "    </tr>\n",
       "    <tr>\n",
       "      <th>1</th>\n",
       "      <td>Own Home</td>\n",
       "      <td>1025487.00</td>\n",
       "      <td>10+ years</td>\n",
       "      <td>0.00</td>\n",
       "      <td>15.00</td>\n",
       "      <td>15.30</td>\n",
       "      <td>1181730.00</td>\n",
       "      <td>0.00</td>\n",
       "      <td>nan</td>\n",
       "      <td>0.00</td>\n",
       "      <td>debt consolidation</td>\n",
       "      <td>Long Term</td>\n",
       "      <td>264968.00</td>\n",
       "      <td>394972.00</td>\n",
       "      <td>18373.00</td>\n",
       "      <td>737.00</td>\n",
       "      <td>1</td>\n",
       "    </tr>\n",
       "    <tr>\n",
       "      <th>2</th>\n",
       "      <td>Home Mortgage</td>\n",
       "      <td>751412.00</td>\n",
       "      <td>8 years</td>\n",
       "      <td>0.00</td>\n",
       "      <td>11.00</td>\n",
       "      <td>35.00</td>\n",
       "      <td>1182434.00</td>\n",
       "      <td>0.00</td>\n",
       "      <td>nan</td>\n",
       "      <td>0.00</td>\n",
       "      <td>debt consolidation</td>\n",
       "      <td>Short Term</td>\n",
       "      <td>99999999.00</td>\n",
       "      <td>308389.00</td>\n",
       "      <td>13651.00</td>\n",
       "      <td>742.00</td>\n",
       "      <td>0</td>\n",
       "    </tr>\n",
       "    <tr>\n",
       "      <th>3</th>\n",
       "      <td>Own Home</td>\n",
       "      <td>805068.00</td>\n",
       "      <td>6 years</td>\n",
       "      <td>0.00</td>\n",
       "      <td>8.00</td>\n",
       "      <td>22.50</td>\n",
       "      <td>147400.00</td>\n",
       "      <td>1.00</td>\n",
       "      <td>nan</td>\n",
       "      <td>1.00</td>\n",
       "      <td>debt consolidation</td>\n",
       "      <td>Short Term</td>\n",
       "      <td>121396.00</td>\n",
       "      <td>95855.00</td>\n",
       "      <td>11338.00</td>\n",
       "      <td>694.00</td>\n",
       "      <td>0</td>\n",
       "    </tr>\n",
       "    <tr>\n",
       "      <th>4</th>\n",
       "      <td>Rent</td>\n",
       "      <td>776264.00</td>\n",
       "      <td>8 years</td>\n",
       "      <td>0.00</td>\n",
       "      <td>13.00</td>\n",
       "      <td>13.60</td>\n",
       "      <td>385836.00</td>\n",
       "      <td>1.00</td>\n",
       "      <td>nan</td>\n",
       "      <td>0.00</td>\n",
       "      <td>debt consolidation</td>\n",
       "      <td>Short Term</td>\n",
       "      <td>125840.00</td>\n",
       "      <td>93309.00</td>\n",
       "      <td>7180.00</td>\n",
       "      <td>719.00</td>\n",
       "      <td>0</td>\n",
       "    </tr>\n",
       "  </tbody>\n",
       "</table>\n",
       "</div>"
      ],
      "text/plain": [
       "  Home Ownership  Annual Income Years in current job  Tax Liens  \\\n",
       "0       Own Home      482087.00                  NaN       0.00   \n",
       "1       Own Home     1025487.00            10+ years       0.00   \n",
       "2  Home Mortgage      751412.00              8 years       0.00   \n",
       "3       Own Home      805068.00              6 years       0.00   \n",
       "4           Rent      776264.00              8 years       0.00   \n",
       "\n",
       "   Number of Open Accounts  Years of Credit History  Maximum Open Credit  \\\n",
       "0                    11.00                    26.30            685960.00   \n",
       "1                    15.00                    15.30           1181730.00   \n",
       "2                    11.00                    35.00           1182434.00   \n",
       "3                     8.00                    22.50            147400.00   \n",
       "4                    13.00                    13.60            385836.00   \n",
       "\n",
       "   Number of Credit Problems  Months since last delinquent  Bankruptcies  \\\n",
       "0                       1.00                           nan          1.00   \n",
       "1                       0.00                           nan          0.00   \n",
       "2                       0.00                           nan          0.00   \n",
       "3                       1.00                           nan          1.00   \n",
       "4                       1.00                           nan          0.00   \n",
       "\n",
       "              Purpose        Term  Current Loan Amount  \\\n",
       "0  debt consolidation  Short Term          99999999.00   \n",
       "1  debt consolidation   Long Term            264968.00   \n",
       "2  debt consolidation  Short Term          99999999.00   \n",
       "3  debt consolidation  Short Term            121396.00   \n",
       "4  debt consolidation  Short Term            125840.00   \n",
       "\n",
       "   Current Credit Balance  Monthly Debt  Credit Score  Credit Default  \n",
       "0                47386.00       7914.00        749.00               0  \n",
       "1               394972.00      18373.00        737.00               1  \n",
       "2               308389.00      13651.00        742.00               0  \n",
       "3                95855.00      11338.00        694.00               0  \n",
       "4                93309.00       7180.00        719.00               0  "
      ]
     },
     "execution_count": 5,
     "metadata": {},
     "output_type": "execute_result"
    }
   ],
   "source": [
    "df_train.head()"
   ]
  },
  {
   "cell_type": "code",
   "execution_count": 6,
   "metadata": {},
   "outputs": [
    {
     "data": {
      "text/plain": [
       "(7500, 17)"
      ]
     },
     "execution_count": 6,
     "metadata": {},
     "output_type": "execute_result"
    }
   ],
   "source": [
    "df_train.shape"
   ]
  },
  {
   "cell_type": "code",
   "execution_count": 7,
   "metadata": {},
   "outputs": [
    {
     "name": "stdout",
     "output_type": "stream",
     "text": [
      "<class 'pandas.core.frame.DataFrame'>\n",
      "RangeIndex: 7500 entries, 0 to 7499\n",
      "Data columns (total 17 columns):\n",
      " #   Column                        Non-Null Count  Dtype  \n",
      "---  ------                        --------------  -----  \n",
      " 0   Home Ownership                7500 non-null   object \n",
      " 1   Annual Income                 5943 non-null   float64\n",
      " 2   Years in current job          7129 non-null   object \n",
      " 3   Tax Liens                     7500 non-null   float64\n",
      " 4   Number of Open Accounts       7500 non-null   float64\n",
      " 5   Years of Credit History       7500 non-null   float64\n",
      " 6   Maximum Open Credit           7500 non-null   float64\n",
      " 7   Number of Credit Problems     7500 non-null   float64\n",
      " 8   Months since last delinquent  3419 non-null   float64\n",
      " 9   Bankruptcies                  7486 non-null   float64\n",
      " 10  Purpose                       7500 non-null   object \n",
      " 11  Term                          7500 non-null   object \n",
      " 12  Current Loan Amount           7500 non-null   float64\n",
      " 13  Current Credit Balance        7500 non-null   float64\n",
      " 14  Monthly Debt                  7500 non-null   float64\n",
      " 15  Credit Score                  5943 non-null   float64\n",
      " 16  Credit Default                7500 non-null   int64  \n",
      "dtypes: float64(12), int64(1), object(4)\n",
      "memory usage: 996.2+ KB\n"
     ]
    }
   ],
   "source": [
    "df_train.info()"
   ]
  },
  {
   "cell_type": "markdown",
   "metadata": {},
   "source": [
    "#### Обзор количественных признаков"
   ]
  },
  {
   "cell_type": "code",
   "execution_count": 8,
   "metadata": {},
   "outputs": [
    {
     "data": {
      "text/html": [
       "<div>\n",
       "<style scoped>\n",
       "    .dataframe tbody tr th:only-of-type {\n",
       "        vertical-align: middle;\n",
       "    }\n",
       "\n",
       "    .dataframe tbody tr th {\n",
       "        vertical-align: top;\n",
       "    }\n",
       "\n",
       "    .dataframe thead th {\n",
       "        text-align: right;\n",
       "    }\n",
       "</style>\n",
       "<table border=\"1\" class=\"dataframe\">\n",
       "  <thead>\n",
       "    <tr style=\"text-align: right;\">\n",
       "      <th></th>\n",
       "      <th>Annual Income</th>\n",
       "      <th>Tax Liens</th>\n",
       "      <th>Number of Open Accounts</th>\n",
       "      <th>Years of Credit History</th>\n",
       "      <th>Maximum Open Credit</th>\n",
       "      <th>Number of Credit Problems</th>\n",
       "      <th>Months since last delinquent</th>\n",
       "      <th>Bankruptcies</th>\n",
       "      <th>Current Loan Amount</th>\n",
       "      <th>Current Credit Balance</th>\n",
       "      <th>Monthly Debt</th>\n",
       "      <th>Credit Score</th>\n",
       "      <th>Credit Default</th>\n",
       "    </tr>\n",
       "  </thead>\n",
       "  <tbody>\n",
       "    <tr>\n",
       "      <th>count</th>\n",
       "      <td>5943.00</td>\n",
       "      <td>7500.00</td>\n",
       "      <td>7500.00</td>\n",
       "      <td>7500.00</td>\n",
       "      <td>7500.00</td>\n",
       "      <td>7500.00</td>\n",
       "      <td>3419.00</td>\n",
       "      <td>7486.00</td>\n",
       "      <td>7500.00</td>\n",
       "      <td>7500.00</td>\n",
       "      <td>7500.00</td>\n",
       "      <td>5943.00</td>\n",
       "      <td>7500.00</td>\n",
       "    </tr>\n",
       "    <tr>\n",
       "      <th>mean</th>\n",
       "      <td>1366391.72</td>\n",
       "      <td>0.03</td>\n",
       "      <td>11.13</td>\n",
       "      <td>18.32</td>\n",
       "      <td>945153.73</td>\n",
       "      <td>0.17</td>\n",
       "      <td>34.69</td>\n",
       "      <td>0.12</td>\n",
       "      <td>11873177.45</td>\n",
       "      <td>289833.24</td>\n",
       "      <td>18314.45</td>\n",
       "      <td>1151.09</td>\n",
       "      <td>0.28</td>\n",
       "    </tr>\n",
       "    <tr>\n",
       "      <th>std</th>\n",
       "      <td>845339.20</td>\n",
       "      <td>0.27</td>\n",
       "      <td>4.91</td>\n",
       "      <td>7.04</td>\n",
       "      <td>16026216.67</td>\n",
       "      <td>0.50</td>\n",
       "      <td>21.69</td>\n",
       "      <td>0.35</td>\n",
       "      <td>31926122.97</td>\n",
       "      <td>317871.38</td>\n",
       "      <td>11926.76</td>\n",
       "      <td>1604.45</td>\n",
       "      <td>0.45</td>\n",
       "    </tr>\n",
       "    <tr>\n",
       "      <th>min</th>\n",
       "      <td>164597.00</td>\n",
       "      <td>0.00</td>\n",
       "      <td>2.00</td>\n",
       "      <td>4.00</td>\n",
       "      <td>0.00</td>\n",
       "      <td>0.00</td>\n",
       "      <td>0.00</td>\n",
       "      <td>0.00</td>\n",
       "      <td>11242.00</td>\n",
       "      <td>0.00</td>\n",
       "      <td>0.00</td>\n",
       "      <td>585.00</td>\n",
       "      <td>0.00</td>\n",
       "    </tr>\n",
       "    <tr>\n",
       "      <th>25%</th>\n",
       "      <td>844341.00</td>\n",
       "      <td>0.00</td>\n",
       "      <td>8.00</td>\n",
       "      <td>13.50</td>\n",
       "      <td>279229.50</td>\n",
       "      <td>0.00</td>\n",
       "      <td>16.00</td>\n",
       "      <td>0.00</td>\n",
       "      <td>180169.00</td>\n",
       "      <td>114256.50</td>\n",
       "      <td>10067.50</td>\n",
       "      <td>711.00</td>\n",
       "      <td>0.00</td>\n",
       "    </tr>\n",
       "    <tr>\n",
       "      <th>50%</th>\n",
       "      <td>1168386.00</td>\n",
       "      <td>0.00</td>\n",
       "      <td>10.00</td>\n",
       "      <td>17.00</td>\n",
       "      <td>478159.00</td>\n",
       "      <td>0.00</td>\n",
       "      <td>32.00</td>\n",
       "      <td>0.00</td>\n",
       "      <td>309573.00</td>\n",
       "      <td>209323.00</td>\n",
       "      <td>16076.50</td>\n",
       "      <td>731.00</td>\n",
       "      <td>0.00</td>\n",
       "    </tr>\n",
       "    <tr>\n",
       "      <th>75%</th>\n",
       "      <td>1640137.00</td>\n",
       "      <td>0.00</td>\n",
       "      <td>14.00</td>\n",
       "      <td>21.80</td>\n",
       "      <td>793501.50</td>\n",
       "      <td>0.00</td>\n",
       "      <td>50.00</td>\n",
       "      <td>0.00</td>\n",
       "      <td>519882.00</td>\n",
       "      <td>360406.25</td>\n",
       "      <td>23818.00</td>\n",
       "      <td>743.00</td>\n",
       "      <td>1.00</td>\n",
       "    </tr>\n",
       "    <tr>\n",
       "      <th>max</th>\n",
       "      <td>10149344.00</td>\n",
       "      <td>7.00</td>\n",
       "      <td>43.00</td>\n",
       "      <td>57.70</td>\n",
       "      <td>1304726170.00</td>\n",
       "      <td>7.00</td>\n",
       "      <td>118.00</td>\n",
       "      <td>4.00</td>\n",
       "      <td>99999999.00</td>\n",
       "      <td>6506797.00</td>\n",
       "      <td>136679.00</td>\n",
       "      <td>7510.00</td>\n",
       "      <td>1.00</td>\n",
       "    </tr>\n",
       "  </tbody>\n",
       "</table>\n",
       "</div>"
      ],
      "text/plain": [
       "       Annual Income  Tax Liens  Number of Open Accounts  \\\n",
       "count        5943.00    7500.00                  7500.00   \n",
       "mean      1366391.72       0.03                    11.13   \n",
       "std        845339.20       0.27                     4.91   \n",
       "min        164597.00       0.00                     2.00   \n",
       "25%        844341.00       0.00                     8.00   \n",
       "50%       1168386.00       0.00                    10.00   \n",
       "75%       1640137.00       0.00                    14.00   \n",
       "max      10149344.00       7.00                    43.00   \n",
       "\n",
       "       Years of Credit History  Maximum Open Credit  \\\n",
       "count                  7500.00              7500.00   \n",
       "mean                     18.32            945153.73   \n",
       "std                       7.04          16026216.67   \n",
       "min                       4.00                 0.00   \n",
       "25%                      13.50            279229.50   \n",
       "50%                      17.00            478159.00   \n",
       "75%                      21.80            793501.50   \n",
       "max                      57.70        1304726170.00   \n",
       "\n",
       "       Number of Credit Problems  Months since last delinquent  Bankruptcies  \\\n",
       "count                    7500.00                       3419.00       7486.00   \n",
       "mean                        0.17                         34.69          0.12   \n",
       "std                         0.50                         21.69          0.35   \n",
       "min                         0.00                          0.00          0.00   \n",
       "25%                         0.00                         16.00          0.00   \n",
       "50%                         0.00                         32.00          0.00   \n",
       "75%                         0.00                         50.00          0.00   \n",
       "max                         7.00                        118.00          4.00   \n",
       "\n",
       "       Current Loan Amount  Current Credit Balance  Monthly Debt  \\\n",
       "count              7500.00                 7500.00       7500.00   \n",
       "mean           11873177.45               289833.24      18314.45   \n",
       "std            31926122.97               317871.38      11926.76   \n",
       "min               11242.00                    0.00          0.00   \n",
       "25%              180169.00               114256.50      10067.50   \n",
       "50%              309573.00               209323.00      16076.50   \n",
       "75%              519882.00               360406.25      23818.00   \n",
       "max            99999999.00              6506797.00     136679.00   \n",
       "\n",
       "       Credit Score  Credit Default  \n",
       "count       5943.00         7500.00  \n",
       "mean        1151.09            0.28  \n",
       "std         1604.45            0.45  \n",
       "min          585.00            0.00  \n",
       "25%          711.00            0.00  \n",
       "50%          731.00            0.00  \n",
       "75%          743.00            1.00  \n",
       "max         7510.00            1.00  "
      ]
     },
     "execution_count": 8,
     "metadata": {},
     "output_type": "execute_result"
    }
   ],
   "source": [
    "df_train.describe()"
   ]
  },
  {
   "cell_type": "markdown",
   "metadata": {},
   "source": [
    "#### Обзор целевой переменной"
   ]
  },
  {
   "cell_type": "code",
   "execution_count": 9,
   "metadata": {},
   "outputs": [
    {
     "data": {
      "text/plain": [
       "0   0.72\n",
       "1   0.28\n",
       "Name: Credit Default, dtype: float64"
      ]
     },
     "execution_count": 9,
     "metadata": {},
     "output_type": "execute_result"
    }
   ],
   "source": [
    "df_train['Credit Default'].value_counts(normalize=True)"
   ]
  },
  {
   "cell_type": "markdown",
   "metadata": {},
   "source": [
    "#### Обзор номинативных/категориальных признаков"
   ]
  },
  {
   "cell_type": "code",
   "execution_count": 10,
   "metadata": {},
   "outputs": [
    {
     "name": "stdout",
     "output_type": "stream",
     "text": [
      "Home Ownership\n",
      "\n",
      "Home Mortgage    3637\n",
      "Rent             3204\n",
      "Own Home          647\n",
      "Have Mortgage      12\n",
      "Name: Home Ownership, dtype: int64\n",
      "****************************************************************************************************\n",
      "\n",
      "Years in current job\n",
      "\n",
      "10+ years    2332\n",
      "2 years       705\n",
      "3 years       620\n",
      "< 1 year      563\n",
      "5 years       516\n",
      "1 year        504\n",
      "4 years       469\n",
      "6 years       426\n",
      "7 years       396\n",
      "8 years       339\n",
      "9 years       259\n",
      "Name: Years in current job, dtype: int64\n",
      "****************************************************************************************************\n",
      "\n",
      "Purpose\n",
      "\n",
      "debt consolidation      5944\n",
      "other                    665\n",
      "home improvements        412\n",
      "business loan            129\n",
      "buy a car                 96\n",
      "medical bills             71\n",
      "major purchase            40\n",
      "take a trip               37\n",
      "buy house                 34\n",
      "small business            26\n",
      "wedding                   15\n",
      "moving                    11\n",
      "educational expenses      10\n",
      "vacation                   8\n",
      "renewable energy           2\n",
      "Name: Purpose, dtype: int64\n",
      "****************************************************************************************************\n",
      "\n",
      "Term\n",
      "\n",
      "Short Term    5556\n",
      "Long Term     1944\n",
      "Name: Term, dtype: int64\n",
      "****************************************************************************************************\n",
      "\n"
     ]
    }
   ],
   "source": [
    "for cat_colname in df_train.select_dtypes(include='object').columns:\n",
    "    print(str(cat_colname) + '\\n\\n' + str(df_train[cat_colname].value_counts()) + '\\n' + '*' * 100 + '\\n')"
   ]
  },
  {
   "cell_type": "markdown",
   "metadata": {},
   "source": [
    "### <center>Обработка категориальных данных<a class=\"anchor\" id=\"course_project\"></a><center>"
   ]
  },
  {
   "cell_type": "markdown",
   "metadata": {},
   "source": [
    "Для дальнейшей обработки данных (категориальные данные, пропуски, выбросы) объединим тренировочный и тестовый датасеты."
   ]
  },
  {
   "cell_type": "code",
   "execution_count": 11,
   "metadata": {},
   "outputs": [
    {
     "data": {
      "text/plain": [
       "(10000, 17)"
      ]
     },
     "execution_count": 11,
     "metadata": {},
     "output_type": "execute_result"
    }
   ],
   "source": [
    "df = pd.concat([df_train, df_test], axis = 0)\n",
    "df.shape"
   ]
  },
  {
   "cell_type": "markdown",
   "metadata": {},
   "source": [
    "#### Количество лет на текущем месте работы"
   ]
  },
  {
   "cell_type": "code",
   "execution_count": 12,
   "metadata": {},
   "outputs": [],
   "source": [
    "years_mapping = {\n",
    "    '< 1 year': 0,\n",
    "    '1 year' : 1,\n",
    "    '2 years' : 2,\n",
    "    '3 years' : 3,\n",
    "    '4 years' : 4,\n",
    "    '5 years' : 5,\n",
    "    '6 years' : 6,\n",
    "    '7 years' : 7,\n",
    "    '8 years' : 8,\n",
    "    '9 years' : 9,\n",
    "    '10+ years': 10,\n",
    "}\n",
    "\n",
    "df['Years in current job'] = df['Years in current job'].map(years_mapping)"
   ]
  },
  {
   "cell_type": "markdown",
   "metadata": {},
   "source": [
    "#### Домовладение"
   ]
  },
  {
   "cell_type": "code",
   "execution_count": 13,
   "metadata": {},
   "outputs": [],
   "source": [
    "home_mapping = {\n",
    "    'Home Mortgage': 1,\n",
    "    'Rent': 0,\n",
    "    'Own Home':2,\n",
    "    'Have Mortgage':1    \n",
    "}\n",
    "\n",
    "df['Home Ownership'] = df['Home Ownership'].map(home_mapping)"
   ]
  },
  {
   "cell_type": "markdown",
   "metadata": {},
   "source": [
    "#### Срок кредита"
   ]
  },
  {
   "cell_type": "code",
   "execution_count": 14,
   "metadata": {},
   "outputs": [],
   "source": [
    "df.loc[df['Term'] == 'Short Term', 'Term'] = 0\n",
    "df.loc[df['Term'] == 'Long Term', 'Term'] = 1\n",
    "df['Term'] = df['Term'].astype(int)"
   ]
  },
  {
   "cell_type": "markdown",
   "metadata": {},
   "source": [
    "#### Цель кредита"
   ]
  },
  {
   "cell_type": "code",
   "execution_count": 15,
   "metadata": {},
   "outputs": [],
   "source": [
    "df.loc [df['Purpose']!= 'debt consolidation', 'Purpose'] = 1\n",
    "df.loc[df['Purpose'] == 'debt consolidation', 'Purpose'] = 0\n",
    "df['Purpose'] = df['Purpose'].astype(int)"
   ]
  },
  {
   "cell_type": "markdown",
   "metadata": {},
   "source": [
    "### <center>Обработка пропусков<a class=\"anchor\" id=\"course_project\"></a><center>"
   ]
  },
  {
   "cell_type": "code",
   "execution_count": 16,
   "metadata": {},
   "outputs": [
    {
     "data": {
      "text/plain": [
       "Home Ownership                     0\n",
       "Annual Income                   2070\n",
       "Years in current job             457\n",
       "Tax Liens                          0\n",
       "Number of Open Accounts            0\n",
       "Years of Credit History            0\n",
       "Maximum Open Credit                0\n",
       "Number of Credit Problems          0\n",
       "Months since last delinquent    5439\n",
       "Bankruptcies                      17\n",
       "Purpose                            0\n",
       "Term                               0\n",
       "Current Loan Amount                0\n",
       "Current Credit Balance             0\n",
       "Monthly Debt                       0\n",
       "Credit Score                    2070\n",
       "Credit Default                  2500\n",
       "dtype: int64"
      ]
     },
     "execution_count": 16,
     "metadata": {},
     "output_type": "execute_result"
    }
   ],
   "source": [
    "df.isnull().sum()"
   ]
  },
  {
   "cell_type": "markdown",
   "metadata": {},
   "source": [
    "Смотрим количество данных, в которых пропущено 4 параметра и больше"
   ]
  },
  {
   "cell_type": "code",
   "execution_count": 17,
   "metadata": {},
   "outputs": [
    {
     "data": {
      "text/plain": [
       "Home Ownership                  324\n",
       "Annual Income                     0\n",
       "Years in current job            272\n",
       "Tax Liens                       324\n",
       "Number of Open Accounts         324\n",
       "Years of Credit History         324\n",
       "Maximum Open Credit             324\n",
       "Number of Credit Problems       324\n",
       "Months since last delinquent      9\n",
       "Bankruptcies                    323\n",
       "Purpose                         324\n",
       "Term                            324\n",
       "Current Loan Amount             324\n",
       "Current Credit Balance          324\n",
       "Monthly Debt                    324\n",
       "Credit Score                      0\n",
       "Credit Default                   38\n",
       "dtype: int64"
      ]
     },
     "execution_count": 17,
     "metadata": {},
     "output_type": "execute_result"
    }
   ],
   "source": [
    "df[df.isnull().sum(axis=1)>=4].count()"
   ]
  },
  {
   "cell_type": "code",
   "execution_count": 18,
   "metadata": {},
   "outputs": [],
   "source": [
    "df = df.drop(df[df.isnull().sum(axis=1)>=4].index)"
   ]
  },
  {
   "cell_type": "markdown",
   "metadata": {},
   "source": [
    "#### Банкротства"
   ]
  },
  {
   "cell_type": "code",
   "execution_count": 19,
   "metadata": {},
   "outputs": [
    {
     "data": {
      "text/plain": [
       "count   9370.00\n",
       "mean       0.11\n",
       "std        0.35\n",
       "min        0.00\n",
       "25%        0.00\n",
       "50%        0.00\n",
       "75%        0.00\n",
       "max        5.00\n",
       "Name: Bankruptcies, dtype: float64"
      ]
     },
     "execution_count": 19,
     "metadata": {},
     "output_type": "execute_result"
    }
   ],
   "source": [
    "df['Bankruptcies'].describe()"
   ]
  },
  {
   "cell_type": "code",
   "execution_count": 20,
   "metadata": {},
   "outputs": [
    {
     "data": {
      "text/plain": [
       "array([ 1.,  0.,  3., nan,  2.,  4.,  5.])"
      ]
     },
     "execution_count": 20,
     "metadata": {},
     "output_type": "execute_result"
    }
   ],
   "source": [
    "df['Bankruptcies'].unique()"
   ]
  },
  {
   "cell_type": "code",
   "execution_count": 21,
   "metadata": {},
   "outputs": [
    {
     "data": {
      "image/png": "[encoded data removed]",
      "text/plain": [
       "<Figure size 432x288 with 1 Axes>"
      ]
     },
     "metadata": {
      "needs_background": "light"
     },
     "output_type": "display_data"
    }
   ],
   "source": [
    "df['Bankruptcies'].plot.hist(title = 'Bankruptcies');\n",
    "plt.xlabel('Bankruptcies');"
   ]
  },
  {
   "cell_type": "markdown",
   "metadata": {},
   "source": [
    "Целесообразным представляется заменить пропущенные значения на медиану"
   ]
  },
  {
   "cell_type": "code",
   "execution_count": 22,
   "metadata": {},
   "outputs": [],
   "source": [
    "df.loc[df['Bankruptcies'].isnull(), 'Bankruptcies'] = df['Bankruptcies'].median()"
   ]
  },
  {
   "cell_type": "markdown",
   "metadata": {},
   "source": [
    "#### Количество лет на текущем месте работы"
   ]
  },
  {
   "cell_type": "code",
   "execution_count": 23,
   "metadata": {},
   "outputs": [
    {
     "data": {
      "text/plain": [
       "count   8997.00\n",
       "mean       5.89\n",
       "std        3.63\n",
       "min        0.00\n",
       "25%        3.00\n",
       "50%        6.00\n",
       "75%       10.00\n",
       "max       10.00\n",
       "Name: Years in current job, dtype: float64"
      ]
     },
     "execution_count": 23,
     "metadata": {},
     "output_type": "execute_result"
    }
   ],
   "source": [
    "df['Years in current job'].describe()"
   ]
  },
  {
   "cell_type": "code",
   "execution_count": 24,
   "metadata": {},
   "outputs": [
    {
     "data": {
      "image/png": "[encoded data removed]",
      "text/plain": [
       "<Figure size 432x288 with 1 Axes>"
      ]
     },
     "metadata": {
      "needs_background": "light"
     },
     "output_type": "display_data"
    }
   ],
   "source": [
    "df['Years in current job'].plot.hist(title = 'Years in current job');\n",
    "plt.xlabel('Years in current job');"
   ]
  },
  {
   "cell_type": "code",
   "execution_count": 25,
   "metadata": {},
   "outputs": [],
   "source": [
    "df.loc[df['Years in current job'].isnull(), 'Years in current job'] = df['Years in current job'].median()"
   ]
  },
  {
   "cell_type": "markdown",
   "metadata": {},
   "source": [
    "#### Годовой доход"
   ]
  },
  {
   "cell_type": "code",
   "execution_count": 26,
   "metadata": {},
   "outputs": [
    {
     "data": {
      "text/plain": [
       "count       7704.00\n",
       "mean     1368358.40\n",
       "std       867196.50\n",
       "min       106533.00\n",
       "25%       847115.00\n",
       "50%      1170875.00\n",
       "75%      1641495.50\n",
       "max     14975610.00\n",
       "Name: Annual Income, dtype: float64"
      ]
     },
     "execution_count": 26,
     "metadata": {},
     "output_type": "execute_result"
    }
   ],
   "source": [
    "df['Annual Income'].describe()"
   ]
  },
  {
   "cell_type": "markdown",
   "metadata": {},
   "source": [
    "Прежде чем заполнить пропуски в этом столбце, необходимо избавиться от выбросов"
   ]
  },
  {
   "cell_type": "code",
   "execution_count": 27,
   "metadata": {},
   "outputs": [
    {
     "data": {
      "text/html": [
       "<div>\n",
       "<style scoped>\n",
       "    .dataframe tbody tr th:only-of-type {\n",
       "        vertical-align: middle;\n",
       "    }\n",
       "\n",
       "    .dataframe tbody tr th {\n",
       "        vertical-align: top;\n",
       "    }\n",
       "\n",
       "    .dataframe thead th {\n",
       "        text-align: right;\n",
       "    }\n",
       "</style>\n",
       "<table border=\"1\" class=\"dataframe\">\n",
       "  <thead>\n",
       "    <tr style=\"text-align: right;\">\n",
       "      <th></th>\n",
       "      <th>Home Ownership</th>\n",
       "      <th>Annual Income</th>\n",
       "      <th>Years in current job</th>\n",
       "      <th>Tax Liens</th>\n",
       "      <th>Number of Open Accounts</th>\n",
       "      <th>Years of Credit History</th>\n",
       "      <th>Maximum Open Credit</th>\n",
       "      <th>Number of Credit Problems</th>\n",
       "      <th>Months since last delinquent</th>\n",
       "      <th>Bankruptcies</th>\n",
       "      <th>Purpose</th>\n",
       "      <th>Term</th>\n",
       "      <th>Current Loan Amount</th>\n",
       "      <th>Current Credit Balance</th>\n",
       "      <th>Monthly Debt</th>\n",
       "      <th>Credit Score</th>\n",
       "      <th>Credit Default</th>\n",
       "    </tr>\n",
       "  </thead>\n",
       "  <tbody>\n",
       "    <tr>\n",
       "      <th>194</th>\n",
       "      <td>0</td>\n",
       "      <td>14975610.00</td>\n",
       "      <td>5.00</td>\n",
       "      <td>0.00</td>\n",
       "      <td>5.00</td>\n",
       "      <td>44.30</td>\n",
       "      <td>155518.00</td>\n",
       "      <td>0.00</td>\n",
       "      <td>nan</td>\n",
       "      <td>0.00</td>\n",
       "      <td>1</td>\n",
       "      <td>1</td>\n",
       "      <td>133386.00</td>\n",
       "      <td>103968.00</td>\n",
       "      <td>3369.00</td>\n",
       "      <td>738.00</td>\n",
       "      <td>nan</td>\n",
       "    </tr>\n",
       "  </tbody>\n",
       "</table>\n",
       "</div>"
      ],
      "text/plain": [
       "     Home Ownership  Annual Income  Years in current job  Tax Liens  \\\n",
       "194               0    14975610.00                  5.00       0.00   \n",
       "\n",
       "     Number of Open Accounts  Years of Credit History  Maximum Open Credit  \\\n",
       "194                     5.00                    44.30            155518.00   \n",
       "\n",
       "     Number of Credit Problems  Months since last delinquent  Bankruptcies  \\\n",
       "194                       0.00                           nan          0.00   \n",
       "\n",
       "     Purpose  Term  Current Loan Amount  Current Credit Balance  Monthly Debt  \\\n",
       "194        1     1            133386.00               103968.00       3369.00   \n",
       "\n",
       "     Credit Score  Credit Default  \n",
       "194        738.00             nan  "
      ]
     },
     "execution_count": 27,
     "metadata": {},
     "output_type": "execute_result"
    }
   ],
   "source": [
    "df[df['Annual Income'] == 14975610]"
   ]
  },
  {
   "cell_type": "code",
   "execution_count": 28,
   "metadata": {},
   "outputs": [
    {
     "data": {
      "image/png": "[encoded data removed]",
      "text/plain": [
       "<Figure size 432x288 with 1 Axes>"
      ]
     },
     "metadata": {
      "needs_background": "light"
     },
     "output_type": "display_data"
    }
   ],
   "source": [
    "df['Annual Income'].plot.hist(title = 'Annual Income');\n",
    "plt.xlabel('Annual Income');"
   ]
  },
  {
   "cell_type": "code",
   "execution_count": 29,
   "metadata": {},
   "outputs": [
    {
     "data": {
      "text/plain": [
       "<matplotlib.axes._subplots.AxesSubplot at 0x14f68048ac8>"
      ]
     },
     "execution_count": 29,
     "metadata": {},
     "output_type": "execute_result"
    },
    {
     "data": {
      "image/png": "[encoded data removed]",
      "text/plain": [
       "<Figure size 432x288 with 1 Axes>"
      ]
     },
     "metadata": {
      "needs_background": "light"
     },
     "output_type": "display_data"
    }
   ],
   "source": [
    "sns.boxplot(df['Annual Income'])"
   ]
  },
  {
   "cell_type": "markdown",
   "metadata": {},
   "source": [
    "Т.к. неизвестно, данные какой страны, какого года представлены, исходя из минимальной зарплаты (13716 в месяц), средней (97 365,5 в месяц) и моды (97 365,5), предположим, что максимальные значения не превзойдут 250 тыс в месяц или 3 млн. в год.\n",
    "Предположим, что ошибка заключается в лишнем нуле. Для того, чтобы избавиться от выбросов, поделим их на 10.\n"
   ]
  },
  {
   "cell_type": "code",
   "execution_count": 30,
   "metadata": {},
   "outputs": [],
   "source": [
    "df.loc[df['Annual Income']>=3000000, 'Annual Income'] = df.loc[df['Annual Income']>=3000000, 'Annual Income']/10"
   ]
  },
  {
   "cell_type": "code",
   "execution_count": 31,
   "metadata": {},
   "outputs": [
    {
     "data": {
      "text/plain": [
       "count      7704.00\n",
       "mean    1218275.54\n",
       "std      570198.05\n",
       "min      106533.00\n",
       "25%      789697.00\n",
       "50%     1129654.50\n",
       "75%     1546239.00\n",
       "max     2997497.00\n",
       "Name: Annual Income, dtype: float64"
      ]
     },
     "execution_count": 31,
     "metadata": {},
     "output_type": "execute_result"
    }
   ],
   "source": [
    "df['Annual Income'].describe()"
   ]
  },
  {
   "cell_type": "markdown",
   "metadata": {},
   "source": [
    "Заполним недостающие данные медианой"
   ]
  },
  {
   "cell_type": "code",
   "execution_count": 32,
   "metadata": {},
   "outputs": [],
   "source": [
    "df.loc[df['Annual Income'].isnull(), 'Annual Income'] = df['Annual Income'].median()"
   ]
  },
  {
   "cell_type": "markdown",
   "metadata": {},
   "source": [
    "#### Ооценка благонадежности клиента (скоринговый балл, полученный из другого источника)"
   ]
  },
  {
   "cell_type": "code",
   "execution_count": 33,
   "metadata": {},
   "outputs": [
    {
     "data": {
      "text/plain": [
       "count   7704.00\n",
       "mean    1172.74\n",
       "std     1641.30\n",
       "min      585.00\n",
       "25%      711.00\n",
       "50%      731.00\n",
       "75%      743.00\n",
       "max     7510.00\n",
       "Name: Credit Score, dtype: float64"
      ]
     },
     "execution_count": 33,
     "metadata": {},
     "output_type": "execute_result"
    }
   ],
   "source": [
    "df['Credit Score'].describe()"
   ]
  },
  {
   "cell_type": "code",
   "execution_count": 34,
   "metadata": {},
   "outputs": [
    {
     "data": {
      "image/png": "[encoded data removed]",
      "text/plain": [
       "<Figure size 432x288 with 1 Axes>"
      ]
     },
     "metadata": {
      "needs_background": "light"
     },
     "output_type": "display_data"
    }
   ],
   "source": [
    "df['Credit Score'].plot.hist(title = 'Credit Score');\n",
    "plt.xlabel('Credit Score');"
   ]
  },
  {
   "cell_type": "code",
   "execution_count": 35,
   "metadata": {},
   "outputs": [
    {
     "data": {
      "text/plain": [
       "<matplotlib.axes._subplots.AxesSubplot at 0x14f68146548>"
      ]
     },
     "execution_count": 35,
     "metadata": {},
     "output_type": "execute_result"
    },
    {
     "data": {
      "image/png": "[encoded data removed]",
      "text/plain": [
       "<Figure size 432x288 with 1 Axes>"
      ]
     },
     "metadata": {
      "needs_background": "light"
     },
     "output_type": "display_data"
    }
   ],
   "source": [
    "sns.boxplot(df['Credit Score'])"
   ]
  },
  {
   "cell_type": "markdown",
   "metadata": {},
   "source": [
    "Т.к. по найденной в интернете информации кредитный скоринг считается в диапазоне до 1200 баллов, предположительно, ошибка в данных в том, что во всех ячейчах >1200 просто приписан дополнительный ноль. Поэтому убираем этот ноль и присваеваем пропущенным данным значение медианы."
   ]
  },
  {
   "cell_type": "code",
   "execution_count": 36,
   "metadata": {},
   "outputs": [],
   "source": [
    "df.loc[df['Credit Score']>1200, 'Credit Score'] = df.loc[df['Credit Score']>1200, 'Credit Score']//10\n",
    "\n",
    "df.loc[df['Credit Score'].isnull(), 'Credit Score'] = df['Credit Score'].median()"
   ]
  },
  {
   "cell_type": "markdown",
   "metadata": {},
   "source": [
    "#### Количество месяцев с последней просрочки платежа"
   ]
  },
  {
   "cell_type": "code",
   "execution_count": 37,
   "metadata": {},
   "outputs": [
    {
     "data": {
      "text/plain": [
       "count   4426.00\n",
       "mean      34.62\n",
       "std       21.76\n",
       "min        0.00\n",
       "25%       16.00\n",
       "50%       32.00\n",
       "75%       50.00\n",
       "max      118.00\n",
       "Name: Months since last delinquent, dtype: float64"
      ]
     },
     "execution_count": 37,
     "metadata": {},
     "output_type": "execute_result"
    }
   ],
   "source": [
    "df['Months since last delinquent'].describe()"
   ]
  },
  {
   "cell_type": "code",
   "execution_count": 38,
   "metadata": {},
   "outputs": [
    {
     "data": {
      "text/plain": [
       "<matplotlib.axes._subplots.AxesSubplot at 0x14f681bd208>"
      ]
     },
     "execution_count": 38,
     "metadata": {},
     "output_type": "execute_result"
    },
    {
     "data": {
      "image/png": "[encoded data removed]",
      "text/plain": [
       "<Figure size 432x288 with 1 Axes>"
      ]
     },
     "metadata": {
      "needs_background": "light"
     },
     "output_type": "display_data"
    }
   ],
   "source": [
    "sns.boxplot(df['Months since last delinquent'])"
   ]
  },
  {
   "cell_type": "markdown",
   "metadata": {},
   "source": [
    "В данном случае также сначала избавляемся то выброса (меняем выброс на значение медианы), а затем меням на медиану нулевые значения."
   ]
  },
  {
   "cell_type": "code",
   "execution_count": 39,
   "metadata": {},
   "outputs": [],
   "source": [
    "df.loc[df['Months since last delinquent']==118, 'Months since last delinquent'] = df['Months since last delinquent'].median()\n",
    "\n",
    "df.loc[df['Months since last delinquent'].isnull(), 'Months since last delinquent'] = df['Months since last delinquent'].median()"
   ]
  },
  {
   "cell_type": "code",
   "execution_count": 40,
   "metadata": {},
   "outputs": [
    {
     "data": {
      "text/plain": [
       "Home Ownership                     0\n",
       "Annual Income                      0\n",
       "Years in current job               0\n",
       "Tax Liens                          0\n",
       "Number of Open Accounts            0\n",
       "Years of Credit History            0\n",
       "Maximum Open Credit                0\n",
       "Number of Credit Problems          0\n",
       "Months since last delinquent       0\n",
       "Bankruptcies                       0\n",
       "Purpose                            0\n",
       "Term                               0\n",
       "Current Loan Amount                0\n",
       "Current Credit Balance             0\n",
       "Monthly Debt                       0\n",
       "Credit Score                       0\n",
       "Credit Default                  2205\n",
       "dtype: int64"
      ]
     },
     "execution_count": 40,
     "metadata": {},
     "output_type": "execute_result"
    }
   ],
   "source": [
    "df.isnull().sum()"
   ]
  },
  {
   "cell_type": "markdown",
   "metadata": {},
   "source": [
    "### <center>Обработка выбросов<a class=\"anchor\" id=\"course_project\"></a><center> "
   ]
  },
  {
   "cell_type": "code",
   "execution_count": 41,
   "metadata": {},
   "outputs": [
    {
     "name": "stdout",
     "output_type": "stream",
     "text": [
      "<class 'pandas.core.frame.DataFrame'>\n",
      "Int64Index: 9384 entries, 0 to 2499\n",
      "Data columns (total 17 columns):\n",
      " #   Column                        Non-Null Count  Dtype  \n",
      "---  ------                        --------------  -----  \n",
      " 0   Home Ownership                9384 non-null   int64  \n",
      " 1   Annual Income                 9384 non-null   float64\n",
      " 2   Years in current job          9384 non-null   float64\n",
      " 3   Tax Liens                     9384 non-null   float64\n",
      " 4   Number of Open Accounts       9384 non-null   float64\n",
      " 5   Years of Credit History       9384 non-null   float64\n",
      " 6   Maximum Open Credit           9384 non-null   float64\n",
      " 7   Number of Credit Problems     9384 non-null   float64\n",
      " 8   Months since last delinquent  9384 non-null   float64\n",
      " 9   Bankruptcies                  9384 non-null   float64\n",
      " 10  Purpose                       9384 non-null   int32  \n",
      " 11  Term                          9384 non-null   int32  \n",
      " 12  Current Loan Amount           9384 non-null   float64\n",
      " 13  Current Credit Balance        9384 non-null   float64\n",
      " 14  Monthly Debt                  9384 non-null   float64\n",
      " 15  Credit Score                  9384 non-null   float64\n",
      " 16  Credit Default                7179 non-null   float64\n",
      "dtypes: float64(14), int32(2), int64(1)\n",
      "memory usage: 1.2 MB\n"
     ]
    }
   ],
   "source": [
    "df.info()"
   ]
  },
  {
   "cell_type": "code",
   "execution_count": 42,
   "metadata": {},
   "outputs": [
    {
     "data": {
      "text/html": [
       "<div>\n",
       "<style scoped>\n",
       "    .dataframe tbody tr th:only-of-type {\n",
       "        vertical-align: middle;\n",
       "    }\n",
       "\n",
       "    .dataframe tbody tr th {\n",
       "        vertical-align: top;\n",
       "    }\n",
       "\n",
       "    .dataframe thead th {\n",
       "        text-align: right;\n",
       "    }\n",
       "</style>\n",
       "<table border=\"1\" class=\"dataframe\">\n",
       "  <thead>\n",
       "    <tr style=\"text-align: right;\">\n",
       "      <th></th>\n",
       "      <th>Home Ownership</th>\n",
       "      <th>Annual Income</th>\n",
       "      <th>Years in current job</th>\n",
       "      <th>Tax Liens</th>\n",
       "      <th>Number of Open Accounts</th>\n",
       "      <th>Years of Credit History</th>\n",
       "      <th>Maximum Open Credit</th>\n",
       "      <th>Number of Credit Problems</th>\n",
       "      <th>Months since last delinquent</th>\n",
       "      <th>Bankruptcies</th>\n",
       "      <th>Purpose</th>\n",
       "      <th>Term</th>\n",
       "      <th>Current Loan Amount</th>\n",
       "      <th>Current Credit Balance</th>\n",
       "      <th>Monthly Debt</th>\n",
       "      <th>Credit Score</th>\n",
       "      <th>Credit Default</th>\n",
       "    </tr>\n",
       "  </thead>\n",
       "  <tbody>\n",
       "    <tr>\n",
       "      <th>count</th>\n",
       "      <td>9384.00</td>\n",
       "      <td>9384.00</td>\n",
       "      <td>9384.00</td>\n",
       "      <td>9384.00</td>\n",
       "      <td>9384.00</td>\n",
       "      <td>9384.00</td>\n",
       "      <td>9384.00</td>\n",
       "      <td>9384.00</td>\n",
       "      <td>9384.00</td>\n",
       "      <td>9384.00</td>\n",
       "      <td>9384.00</td>\n",
       "      <td>9384.00</td>\n",
       "      <td>9384.00</td>\n",
       "      <td>9384.00</td>\n",
       "      <td>9384.00</td>\n",
       "      <td>9384.00</td>\n",
       "      <td>7179.00</td>\n",
       "    </tr>\n",
       "    <tr>\n",
       "      <th>mean</th>\n",
       "      <td>0.67</td>\n",
       "      <td>1202409.88</td>\n",
       "      <td>5.90</td>\n",
       "      <td>0.03</td>\n",
       "      <td>11.15</td>\n",
       "      <td>18.34</td>\n",
       "      <td>899322.77</td>\n",
       "      <td>0.17</td>\n",
       "      <td>33.23</td>\n",
       "      <td>0.11</td>\n",
       "      <td>0.21</td>\n",
       "      <td>0.26</td>\n",
       "      <td>12262090.72</td>\n",
       "      <td>292344.12</td>\n",
       "      <td>18344.41</td>\n",
       "      <td>721.32</td>\n",
       "      <td>0.28</td>\n",
       "    </tr>\n",
       "    <tr>\n",
       "      <th>std</th>\n",
       "      <td>0.63</td>\n",
       "      <td>517752.23</td>\n",
       "      <td>3.55</td>\n",
       "      <td>0.31</td>\n",
       "      <td>4.90</td>\n",
       "      <td>7.07</td>\n",
       "      <td>14346159.60</td>\n",
       "      <td>0.52</td>\n",
       "      <td>14.97</td>\n",
       "      <td>0.35</td>\n",
       "      <td>0.41</td>\n",
       "      <td>0.44</td>\n",
       "      <td>32383892.23</td>\n",
       "      <td>334663.01</td>\n",
       "      <td>11870.88</td>\n",
       "      <td>25.45</td>\n",
       "      <td>0.45</td>\n",
       "    </tr>\n",
       "    <tr>\n",
       "      <th>min</th>\n",
       "      <td>0.00</td>\n",
       "      <td>106533.00</td>\n",
       "      <td>0.00</td>\n",
       "      <td>0.00</td>\n",
       "      <td>1.00</td>\n",
       "      <td>3.90</td>\n",
       "      <td>0.00</td>\n",
       "      <td>0.00</td>\n",
       "      <td>0.00</td>\n",
       "      <td>0.00</td>\n",
       "      <td>0.00</td>\n",
       "      <td>0.00</td>\n",
       "      <td>15422.00</td>\n",
       "      <td>0.00</td>\n",
       "      <td>0.00</td>\n",
       "      <td>585.00</td>\n",
       "      <td>0.00</td>\n",
       "    </tr>\n",
       "    <tr>\n",
       "      <th>25%</th>\n",
       "      <td>0.00</td>\n",
       "      <td>863436.00</td>\n",
       "      <td>3.00</td>\n",
       "      <td>0.00</td>\n",
       "      <td>8.00</td>\n",
       "      <td>13.50</td>\n",
       "      <td>277321.00</td>\n",
       "      <td>0.00</td>\n",
       "      <td>32.00</td>\n",
       "      <td>0.00</td>\n",
       "      <td>0.00</td>\n",
       "      <td>0.00</td>\n",
       "      <td>181489.00</td>\n",
       "      <td>112731.75</td>\n",
       "      <td>10111.00</td>\n",
       "      <td>714.00</td>\n",
       "      <td>0.00</td>\n",
       "    </tr>\n",
       "    <tr>\n",
       "      <th>50%</th>\n",
       "      <td>1.00</td>\n",
       "      <td>1129654.50</td>\n",
       "      <td>6.00</td>\n",
       "      <td>0.00</td>\n",
       "      <td>10.00</td>\n",
       "      <td>17.00</td>\n",
       "      <td>477466.00</td>\n",
       "      <td>0.00</td>\n",
       "      <td>32.00</td>\n",
       "      <td>0.00</td>\n",
       "      <td>0.00</td>\n",
       "      <td>0.00</td>\n",
       "      <td>313456.00</td>\n",
       "      <td>208705.50</td>\n",
       "      <td>16211.50</td>\n",
       "      <td>728.00</td>\n",
       "      <td>0.00</td>\n",
       "    </tr>\n",
       "    <tr>\n",
       "      <th>75%</th>\n",
       "      <td>1.00</td>\n",
       "      <td>1437853.50</td>\n",
       "      <td>10.00</td>\n",
       "      <td>0.00</td>\n",
       "      <td>14.00</td>\n",
       "      <td>22.00</td>\n",
       "      <td>795168.00</td>\n",
       "      <td>0.00</td>\n",
       "      <td>32.00</td>\n",
       "      <td>0.00</td>\n",
       "      <td>0.00</td>\n",
       "      <td>1.00</td>\n",
       "      <td>526685.50</td>\n",
       "      <td>361665.00</td>\n",
       "      <td>23899.50</td>\n",
       "      <td>738.00</td>\n",
       "      <td>1.00</td>\n",
       "    </tr>\n",
       "    <tr>\n",
       "      <th>max</th>\n",
       "      <td>2.00</td>\n",
       "      <td>2997497.00</td>\n",
       "      <td>10.00</td>\n",
       "      <td>15.00</td>\n",
       "      <td>48.00</td>\n",
       "      <td>57.70</td>\n",
       "      <td>1304726170.00</td>\n",
       "      <td>15.00</td>\n",
       "      <td>92.00</td>\n",
       "      <td>5.00</td>\n",
       "      <td>1.00</td>\n",
       "      <td>1.00</td>\n",
       "      <td>99999999.00</td>\n",
       "      <td>6506797.00</td>\n",
       "      <td>136679.00</td>\n",
       "      <td>751.00</td>\n",
       "      <td>1.00</td>\n",
       "    </tr>\n",
       "  </tbody>\n",
       "</table>\n",
       "</div>"
      ],
      "text/plain": [
       "       Home Ownership  Annual Income  Years in current job  Tax Liens  \\\n",
       "count         9384.00        9384.00               9384.00    9384.00   \n",
       "mean             0.67     1202409.88                  5.90       0.03   \n",
       "std              0.63      517752.23                  3.55       0.31   \n",
       "min              0.00      106533.00                  0.00       0.00   \n",
       "25%              0.00      863436.00                  3.00       0.00   \n",
       "50%              1.00     1129654.50                  6.00       0.00   \n",
       "75%              1.00     1437853.50                 10.00       0.00   \n",
       "max              2.00     2997497.00                 10.00      15.00   \n",
       "\n",
       "       Number of Open Accounts  Years of Credit History  Maximum Open Credit  \\\n",
       "count                  9384.00                  9384.00              9384.00   \n",
       "mean                     11.15                    18.34            899322.77   \n",
       "std                       4.90                     7.07          14346159.60   \n",
       "min                       1.00                     3.90                 0.00   \n",
       "25%                       8.00                    13.50            277321.00   \n",
       "50%                      10.00                    17.00            477466.00   \n",
       "75%                      14.00                    22.00            795168.00   \n",
       "max                      48.00                    57.70        1304726170.00   \n",
       "\n",
       "       Number of Credit Problems  Months since last delinquent  Bankruptcies  \\\n",
       "count                    9384.00                       9384.00       9384.00   \n",
       "mean                        0.17                         33.23          0.11   \n",
       "std                         0.52                         14.97          0.35   \n",
       "min                         0.00                          0.00          0.00   \n",
       "25%                         0.00                         32.00          0.00   \n",
       "50%                         0.00                         32.00          0.00   \n",
       "75%                         0.00                         32.00          0.00   \n",
       "max                        15.00                         92.00          5.00   \n",
       "\n",
       "       Purpose    Term  Current Loan Amount  Current Credit Balance  \\\n",
       "count  9384.00 9384.00              9384.00                 9384.00   \n",
       "mean      0.21    0.26          12262090.72               292344.12   \n",
       "std       0.41    0.44          32383892.23               334663.01   \n",
       "min       0.00    0.00             15422.00                    0.00   \n",
       "25%       0.00    0.00            181489.00               112731.75   \n",
       "50%       0.00    0.00            313456.00               208705.50   \n",
       "75%       0.00    1.00            526685.50               361665.00   \n",
       "max       1.00    1.00          99999999.00              6506797.00   \n",
       "\n",
       "       Monthly Debt  Credit Score  Credit Default  \n",
       "count       9384.00       9384.00         7179.00  \n",
       "mean       18344.41        721.32            0.28  \n",
       "std        11870.88         25.45            0.45  \n",
       "min            0.00        585.00            0.00  \n",
       "25%        10111.00        714.00            0.00  \n",
       "50%        16211.50        728.00            0.00  \n",
       "75%        23899.50        738.00            1.00  \n",
       "max       136679.00        751.00            1.00  "
      ]
     },
     "execution_count": 42,
     "metadata": {},
     "output_type": "execute_result"
    }
   ],
   "source": [
    "df.describe()"
   ]
  },
  {
   "cell_type": "markdown",
   "metadata": {},
   "source": [
    "#### Количество открытых счетов"
   ]
  },
  {
   "cell_type": "code",
   "execution_count": 43,
   "metadata": {},
   "outputs": [
    {
     "data": {
      "text/plain": [
       "<matplotlib.axes._subplots.AxesSubplot at 0x14f680fd888>"
      ]
     },
     "execution_count": 43,
     "metadata": {},
     "output_type": "execute_result"
    },
    {
     "data": {
      "image/png": "[encoded data removed]",
      "text/plain": [
       "<Figure size 432x288 with 1 Axes>"
      ]
     },
     "metadata": {
      "needs_background": "light"
     },
     "output_type": "display_data"
    }
   ],
   "source": [
    "sns.boxplot(df['Number of Open Accounts'])"
   ]
  },
  {
   "cell_type": "markdown",
   "metadata": {},
   "source": [
    "Маловероятно, что количество открытых счетов превышает 20, поэтому заменим выбросы на медиану"
   ]
  },
  {
   "cell_type": "code",
   "execution_count": 44,
   "metadata": {},
   "outputs": [],
   "source": [
    "df.loc[df['Number of Open Accounts']>20, 'Number of Open Accounts'] = df['Number of Open Accounts'].median()"
   ]
  },
  {
   "cell_type": "markdown",
   "metadata": {},
   "source": [
    "#### Количество лет кредитной истории"
   ]
  },
  {
   "cell_type": "code",
   "execution_count": 45,
   "metadata": {},
   "outputs": [
    {
     "data": {
      "text/plain": [
       "<matplotlib.axes._subplots.AxesSubplot at 0x14f680aafc8>"
      ]
     },
     "execution_count": 45,
     "metadata": {},
     "output_type": "execute_result"
    },
    {
     "data": {
      "image/png": "[encoded data removed]",
      "text/plain": [
       "<Figure size 432x288 with 1 Axes>"
      ]
     },
     "metadata": {
      "needs_background": "light"
     },
     "output_type": "display_data"
    }
   ],
   "source": [
    "sns.boxplot(df['Years of Credit History'])"
   ]
  },
  {
   "cell_type": "code",
   "execution_count": 46,
   "metadata": {},
   "outputs": [
    {
     "data": {
      "image/png": "[encoded data removed]",
      "text/plain": [
       "<Figure size 432x288 with 1 Axes>"
      ]
     },
     "metadata": {
      "needs_background": "light"
     },
     "output_type": "display_data"
    }
   ],
   "source": [
    "df['Years of Credit History'].plot.hist(title = 'Years of Credit History');\n",
    "plt.xlabel('Years of Credit History');"
   ]
  },
  {
   "cell_type": "markdown",
   "metadata": {},
   "source": [
    "По закону в России кредитная история хранится 10 лет (до 2015 года этот срок составлял 15 лет). Т.к. год, когда получены эти данные неизвестен, предположим, что во всех данные больше 15 лет указано не количество лет, а количество месяцев. При этом страна, в которой были получены данные также неизвестна. Распределение похоже на реальные данные, поэтому обработаем только правый хвост.\n",
    "За гипотезу примем, что ошибка заключается в том, что указано е количество лет, а количество месяцев."
   ]
  },
  {
   "cell_type": "code",
   "execution_count": 47,
   "metadata": {},
   "outputs": [],
   "source": [
    "df.loc[df['Years of Credit History']>35, 'Years of Credit History'] = df.loc[df['Years of Credit History']>35, 'Years of Credit History']//12"
   ]
  },
  {
   "cell_type": "markdown",
   "metadata": {},
   "source": [
    "#### Наибольший открытый кредит "
   ]
  },
  {
   "cell_type": "code",
   "execution_count": 48,
   "metadata": {},
   "outputs": [
    {
     "data": {
      "text/plain": [
       "<matplotlib.axes._subplots.AxesSubplot at 0x14f680e39c8>"
      ]
     },
     "execution_count": 48,
     "metadata": {},
     "output_type": "execute_result"
    },
    {
     "data": {
      "image/png": "[encoded data removed]",
      "text/plain": [
       "<Figure size 432x288 with 1 Axes>"
      ]
     },
     "metadata": {
      "needs_background": "light"
     },
     "output_type": "display_data"
    }
   ],
   "source": [
    "sns.boxplot(df['Maximum Open Credit'])\n"
   ]
  },
  {
   "cell_type": "code",
   "execution_count": 49,
   "metadata": {},
   "outputs": [
    {
     "data": {
      "text/plain": [
       "count         9384.00\n",
       "mean        899322.77\n",
       "std       14346159.60\n",
       "min              0.00\n",
       "25%         277321.00\n",
       "50%         477466.00\n",
       "75%         795168.00\n",
       "max     1304726170.00\n",
       "Name: Maximum Open Credit, dtype: float64"
      ]
     },
     "execution_count": 49,
     "metadata": {},
     "output_type": "execute_result"
    }
   ],
   "source": [
    "df['Maximum Open Credit'].describe()"
   ]
  },
  {
   "cell_type": "markdown",
   "metadata": {},
   "source": [
    "Вероятно, самые большие выбросы произошли из-за склейки цифр\\опечатки"
   ]
  },
  {
   "cell_type": "code",
   "execution_count": 50,
   "metadata": {},
   "outputs": [],
   "source": [
    "df.loc[df['Maximum Open Credit']==1304726170, 'Maximum Open Credit'] = 130472\n",
    "\n",
    "df.loc[df['Maximum Open Credit']==380052288, 'Maximum Open Credit'] = 380052\n",
    "\n",
    "df.loc[df['Maximum Open Credit']==265512874, 'Maximum Open Credit'] = 265512"
   ]
  },
  {
   "cell_type": "code",
   "execution_count": 51,
   "metadata": {},
   "outputs": [
    {
     "data": {
      "text/plain": [
       "count       9384.00\n",
       "mean      691573.91\n",
       "std      1345680.80\n",
       "min            0.00\n",
       "25%       277238.50\n",
       "50%       477158.00\n",
       "75%       794359.50\n",
       "max     57562560.00\n",
       "Name: Maximum Open Credit, dtype: float64"
      ]
     },
     "execution_count": 51,
     "metadata": {},
     "output_type": "execute_result"
    }
   ],
   "source": [
    "df['Maximum Open Credit'].describe()"
   ]
  },
  {
   "cell_type": "markdown",
   "metadata": {},
   "source": [
    "Предположим, что кредит выше 5 млн также является выбрсом, меняем на медиану"
   ]
  },
  {
   "cell_type": "code",
   "execution_count": 52,
   "metadata": {},
   "outputs": [],
   "source": [
    "df.loc[df['Maximum Open Credit']>5000000, 'Maximum Open Credit'] = df['Maximum Open Credit'].median()"
   ]
  },
  {
   "cell_type": "code",
   "execution_count": 53,
   "metadata": {},
   "outputs": [
    {
     "data": {
      "image/png": "[encoded data removed]",
      "text/plain": [
       "<Figure size 432x288 with 1 Axes>"
      ]
     },
     "metadata": {
      "needs_background": "light"
     },
     "output_type": "display_data"
    }
   ],
   "source": [
    "df['Maximum Open Credit'].plot.hist();\n",
    "plt.xlabel('Maximum Open Credit');"
   ]
  },
  {
   "cell_type": "markdown",
   "metadata": {},
   "source": [
    "#### Количество проблем с кредитом"
   ]
  },
  {
   "cell_type": "code",
   "execution_count": 54,
   "metadata": {},
   "outputs": [
    {
     "data": {
      "text/plain": [
       "count   9384.00\n",
       "mean       0.17\n",
       "std        0.52\n",
       "min        0.00\n",
       "25%        0.00\n",
       "50%        0.00\n",
       "75%        0.00\n",
       "max       15.00\n",
       "Name: Number of Credit Problems, dtype: float64"
      ]
     },
     "execution_count": 54,
     "metadata": {},
     "output_type": "execute_result"
    }
   ],
   "source": [
    "df['Number of Credit Problems'].describe()"
   ]
  },
  {
   "cell_type": "code",
   "execution_count": 55,
   "metadata": {},
   "outputs": [
    {
     "data": {
      "image/png": "[encoded data removed]",
      "text/plain": [
       "<Figure size 432x288 with 1 Axes>"
      ]
     },
     "metadata": {
      "needs_background": "light"
     },
     "output_type": "display_data"
    }
   ],
   "source": [
    "df['Number of Credit Problems'].plot.hist(title = 'Number of Credit Problems');\n",
    "plt.xlabel('Number of Credit Problems');"
   ]
  },
  {
   "cell_type": "markdown",
   "metadata": {},
   "source": [
    "Количество проблем с кредитом больше 5 составляет 0,74% наблюдений из всего датасета. При этом в данных наблюдениях достаточно высокий кредитный скоринг и целевая переменная = 0, поэтому предположим, что это выбросы и заменим на медиану"
   ]
  },
  {
   "cell_type": "code",
   "execution_count": 56,
   "metadata": {},
   "outputs": [],
   "source": [
    "df.loc[df['Number of Credit Problems']>5, 'Number of Credit Problems'] = df['Number of Credit Problems'].median()"
   ]
  },
  {
   "cell_type": "code",
   "execution_count": 57,
   "metadata": {},
   "outputs": [
    {
     "data": {
      "image/png": "[encoded data removed]",
      "text/plain": [
       "<Figure size 432x288 with 1 Axes>"
      ]
     },
     "metadata": {
      "needs_background": "light"
     },
     "output_type": "display_data"
    }
   ],
   "source": [
    "df['Number of Credit Problems'].plot.hist(title = 'Number of Credit Problems');\n",
    "plt.xlabel('Number of Credit Problems');"
   ]
  },
  {
   "cell_type": "markdown",
   "metadata": {},
   "source": [
    "#### Текущая сумма кредита"
   ]
  },
  {
   "cell_type": "code",
   "execution_count": 58,
   "metadata": {},
   "outputs": [
    {
     "data": {
      "image/png": "[encoded data removed]",
      "text/plain": [
       "<Figure size 432x288 with 1 Axes>"
      ]
     },
     "metadata": {
      "needs_background": "light"
     },
     "output_type": "display_data"
    }
   ],
   "source": [
    "df['Current Loan Amount'].plot.hist(title = 'Current Loan Amount');\n",
    "plt.xlabel('Current Loan Amount');"
   ]
  },
  {
   "cell_type": "code",
   "execution_count": 59,
   "metadata": {},
   "outputs": [
    {
     "data": {
      "text/plain": [
       "count       9384.00\n",
       "mean    12262090.72\n",
       "std     32383892.23\n",
       "min        15422.00\n",
       "25%       181489.00\n",
       "50%       313456.00\n",
       "75%       526685.50\n",
       "max     99999999.00\n",
       "Name: Current Loan Amount, dtype: float64"
      ]
     },
     "execution_count": 59,
     "metadata": {},
     "output_type": "execute_result"
    }
   ],
   "source": [
    "df['Current Loan Amount'].describe()"
   ]
  },
  {
   "cell_type": "code",
   "execution_count": 60,
   "metadata": {},
   "outputs": [
    {
     "data": {
      "text/plain": [
       "Home Ownership                  1125\n",
       "Annual Income                   1125\n",
       "Years in current job            1125\n",
       "Tax Liens                       1125\n",
       "Number of Open Accounts         1125\n",
       "Years of Credit History         1125\n",
       "Maximum Open Credit             1125\n",
       "Number of Credit Problems       1125\n",
       "Months since last delinquent    1125\n",
       "Bankruptcies                    1125\n",
       "Purpose                         1125\n",
       "Term                            1125\n",
       "Current Loan Amount             1125\n",
       "Current Credit Balance          1125\n",
       "Monthly Debt                    1125\n",
       "Credit Score                    1125\n",
       "Credit Default                   828\n",
       "dtype: int64"
      ]
     },
     "execution_count": 60,
     "metadata": {},
     "output_type": "execute_result"
    }
   ],
   "source": [
    "df[df['Current Loan Amount']==99999999].count()"
   ]
  },
  {
   "cell_type": "markdown",
   "metadata": {},
   "source": [
    "В 1125 наблюдениях текущая сумма кредита = 99999999, что очевидно, является ошибкой. Заменим эти данные на медиану. При этом для более точных данных возьмем часть датасета без выбросов, т.к. они сильно влияют на статистику по столбцу."
   ]
  },
  {
   "cell_type": "code",
   "execution_count": 61,
   "metadata": {},
   "outputs": [],
   "source": [
    "df.loc[df['Current Loan Amount']==99999999, 'Current Loan Amount'] = df.loc[df['Current Loan Amount']!=99999999, 'Current Loan Amount'].median()"
   ]
  },
  {
   "cell_type": "markdown",
   "metadata": {},
   "source": [
    "#### Текущий кредитный баланс"
   ]
  },
  {
   "cell_type": "code",
   "execution_count": 62,
   "metadata": {},
   "outputs": [
    {
     "data": {
      "text/plain": [
       "<matplotlib.axes._subplots.AxesSubplot at 0x14f683eb108>"
      ]
     },
     "execution_count": 62,
     "metadata": {},
     "output_type": "execute_result"
    },
    {
     "data": {
      "image/png": "[encoded data removed]",
      "text/plain": [
       "<Figure size 432x288 with 1 Axes>"
      ]
     },
     "metadata": {
      "needs_background": "light"
     },
     "output_type": "display_data"
    }
   ],
   "source": [
    "sns.boxplot(df['Current Credit Balance'])"
   ]
  },
  {
   "cell_type": "markdown",
   "metadata": {},
   "source": [
    "Т.к.по нашим данным самы большой кредит = 789096, то и кредитный баланс не может превышат эту сумму."
   ]
  },
  {
   "cell_type": "code",
   "execution_count": 63,
   "metadata": {},
   "outputs": [],
   "source": [
    "df.loc[df['Current Credit Balance']>789096,  'Current Credit Balance'] = df.loc[df['Current Credit Balance']<789096,  'Current Credit Balance'].median()"
   ]
  },
  {
   "cell_type": "markdown",
   "metadata": {},
   "source": [
    "#### Ежемесячный долг"
   ]
  },
  {
   "cell_type": "code",
   "execution_count": 64,
   "metadata": {},
   "outputs": [
    {
     "data": {
      "text/plain": [
       "<matplotlib.axes._subplots.AxesSubplot at 0x14f6843f348>"
      ]
     },
     "execution_count": 64,
     "metadata": {},
     "output_type": "execute_result"
    },
    {
     "data": {
      "image/png": "[encoded data removed]",
      "text/plain": [
       "<Figure size 432x288 with 1 Axes>"
      ]
     },
     "metadata": {
      "needs_background": "light"
     },
     "output_type": "display_data"
    }
   ],
   "source": [
    "sns.boxplot(df['Monthly Debt'])"
   ]
  },
  {
   "cell_type": "code",
   "execution_count": 65,
   "metadata": {},
   "outputs": [],
   "source": [
    "df.loc[df['Monthly Debt']>100000, 'Monthly Debt'] = df['Monthly Debt'].mean()"
   ]
  },
  {
   "cell_type": "markdown",
   "metadata": {},
   "source": [
    "### Сохранение датасета"
   ]
  },
  {
   "cell_type": "code",
   "execution_count": 67,
   "metadata": {},
   "outputs": [],
   "source": [
    "df.to_csv('course_project_data_prep.csv', index=False, encoding='utf-8')"
   ]
  },
  {
   "cell_type": "code",
   "execution_count": null,
   "metadata": {},
   "outputs": [],
   "source": []
  }
 ],
 "metadata": {
  "kernelspec": {
   "display_name": "Python 3",
   "language": "python",
   "name": "python3"
  },
  "language_info": {
   "codemirror_mode": {
    "name": "ipython",
    "version": 3
   },
   "file_extension": ".py",
   "mimetype": "text/x-python",
   "name": "python",
   "nbconvert_exporter": "python",
   "pygments_lexer": "ipython3",
   "version": "3.7.6"
  }
 },
 "nbformat": 4,
 "nbformat_minor": 4
}
